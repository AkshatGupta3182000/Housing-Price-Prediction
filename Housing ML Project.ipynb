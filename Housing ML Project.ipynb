{
 "cells": [
  {
   "cell_type": "code",
   "execution_count": 1,
   "id": "11abad76",
   "metadata": {
    "ExecuteTime": {
     "end_time": "2024-06-06T01:52:57.447161Z",
     "start_time": "2024-06-06T01:52:55.872923Z"
    }
   },
   "outputs": [],
   "source": [
    "## Lets Take a Quick Look at the data for this Project\n",
    "import pandas as pd"
   ]
  },
  {
   "cell_type": "code",
   "execution_count": 2,
   "id": "80c2d5c7",
   "metadata": {
    "ExecuteTime": {
     "end_time": "2024-06-06T01:52:57.604274Z",
     "start_time": "2024-06-06T01:52:57.447161Z"
    }
   },
   "outputs": [
    {
     "data": {
      "text/html": [
       "<div>\n",
       "<style scoped>\n",
       "    .dataframe tbody tr th:only-of-type {\n",
       "        vertical-align: middle;\n",
       "    }\n",
       "\n",
       "    .dataframe tbody tr th {\n",
       "        vertical-align: top;\n",
       "    }\n",
       "\n",
       "    .dataframe thead th {\n",
       "        text-align: right;\n",
       "    }\n",
       "</style>\n",
       "<table border=\"1\" class=\"dataframe\">\n",
       "  <thead>\n",
       "    <tr style=\"text-align: right;\">\n",
       "      <th></th>\n",
       "      <th>longitude</th>\n",
       "      <th>latitude</th>\n",
       "      <th>housing_median_age</th>\n",
       "      <th>total_rooms</th>\n",
       "      <th>total_bedrooms</th>\n",
       "      <th>population</th>\n",
       "      <th>households</th>\n",
       "      <th>median_income</th>\n",
       "      <th>median_house_value</th>\n",
       "      <th>ocean_proximity</th>\n",
       "    </tr>\n",
       "  </thead>\n",
       "  <tbody>\n",
       "    <tr>\n",
       "      <th>0</th>\n",
       "      <td>-122.23</td>\n",
       "      <td>37.88</td>\n",
       "      <td>41.0</td>\n",
       "      <td>880.0</td>\n",
       "      <td>129.0</td>\n",
       "      <td>322.0</td>\n",
       "      <td>126.0</td>\n",
       "      <td>8.3252</td>\n",
       "      <td>452600.0</td>\n",
       "      <td>NEAR BAY</td>\n",
       "    </tr>\n",
       "    <tr>\n",
       "      <th>1</th>\n",
       "      <td>-122.22</td>\n",
       "      <td>37.86</td>\n",
       "      <td>21.0</td>\n",
       "      <td>7099.0</td>\n",
       "      <td>1106.0</td>\n",
       "      <td>2401.0</td>\n",
       "      <td>1138.0</td>\n",
       "      <td>8.3014</td>\n",
       "      <td>358500.0</td>\n",
       "      <td>NEAR BAY</td>\n",
       "    </tr>\n",
       "    <tr>\n",
       "      <th>2</th>\n",
       "      <td>-122.24</td>\n",
       "      <td>37.85</td>\n",
       "      <td>52.0</td>\n",
       "      <td>1467.0</td>\n",
       "      <td>190.0</td>\n",
       "      <td>496.0</td>\n",
       "      <td>177.0</td>\n",
       "      <td>7.2574</td>\n",
       "      <td>352100.0</td>\n",
       "      <td>NEAR BAY</td>\n",
       "    </tr>\n",
       "  </tbody>\n",
       "</table>\n",
       "</div>"
      ],
      "text/plain": [
       "   longitude  latitude  housing_median_age  total_rooms  total_bedrooms  \\\n",
       "0    -122.23     37.88                41.0        880.0           129.0   \n",
       "1    -122.22     37.86                21.0       7099.0          1106.0   \n",
       "2    -122.24     37.85                52.0       1467.0           190.0   \n",
       "\n",
       "   population  households  median_income  median_house_value ocean_proximity  \n",
       "0       322.0       126.0         8.3252            452600.0        NEAR BAY  \n",
       "1      2401.0      1138.0         8.3014            358500.0        NEAR BAY  \n",
       "2       496.0       177.0         7.2574            352100.0        NEAR BAY  "
      ]
     },
     "execution_count": 2,
     "metadata": {},
     "output_type": "execute_result"
    }
   ],
   "source": [
    "## Reading the dataset\n",
    "\n",
    "housing = pd.read_csv(r\"C:\\Users\\guak2001\\OneDrive - Nielsen IQ\\ML_Learning_projects\\Housing_Project\\housing.csv\")\n",
    "housing.head(3)"
   ]
  },
  {
   "cell_type": "code",
   "execution_count": 3,
   "id": "498780c5",
   "metadata": {
    "ExecuteTime": {
     "end_time": "2024-06-06T01:52:57.614427Z",
     "start_time": "2024-06-06T01:52:57.607274Z"
    }
   },
   "outputs": [
    {
     "data": {
      "text/plain": [
       "'\\n1.longitude\\n2.latitude \\n3.housing_median_age\\n4.total_rooms\\n5.total_bed\\n6.rooms\\n7.population\\n8.households\\n9.median_income \\n10.median_house_value\\n11.ocean_proximity\\n\\n'"
      ]
     },
     "execution_count": 3,
     "metadata": {},
     "output_type": "execute_result"
    }
   ],
   "source": [
    "## There are a total of 10 attributes in the given dataset\n",
    "'''\n",
    "1.longitude\n",
    "2.latitude \n",
    "3.housing_median_age\n",
    "4.total_rooms\n",
    "5.total_bed\n",
    "6.rooms\n",
    "7.population\n",
    "8.households\n",
    "9.median_income \n",
    "10.median_house_value\n",
    "11.ocean_proximity\n",
    "\n",
    "'''"
   ]
  },
  {
   "cell_type": "code",
   "execution_count": 4,
   "id": "e45b4252",
   "metadata": {
    "ExecuteTime": {
     "end_time": "2024-06-06T01:52:57.675399Z",
     "start_time": "2024-06-06T01:52:57.616463Z"
    }
   },
   "outputs": [
    {
     "name": "stdout",
     "output_type": "stream",
     "text": [
      "<class 'pandas.core.frame.DataFrame'>\n",
      "RangeIndex: 20640 entries, 0 to 20639\n",
      "Data columns (total 10 columns):\n",
      " #   Column              Non-Null Count  Dtype  \n",
      "---  ------              --------------  -----  \n",
      " 0   longitude           20640 non-null  float64\n",
      " 1   latitude            20640 non-null  float64\n",
      " 2   housing_median_age  20640 non-null  float64\n",
      " 3   total_rooms         20640 non-null  float64\n",
      " 4   total_bedrooms      20433 non-null  float64\n",
      " 5   population          20640 non-null  float64\n",
      " 6   households          20640 non-null  float64\n",
      " 7   median_income       20640 non-null  float64\n",
      " 8   median_house_value  20640 non-null  float64\n",
      " 9   ocean_proximity     20640 non-null  object \n",
      "dtypes: float64(9), object(1)\n",
      "memory usage: 1.6+ MB\n"
     ]
    }
   ],
   "source": [
    "'''\n",
    "The info() method is useful to get a quick description of the data, in particular the\n",
    "total number of rows, and each attribute’s type and number of non-null values\n",
    "'''\n",
    "\n",
    "housing.info()"
   ]
  },
  {
   "cell_type": "code",
   "execution_count": 5,
   "id": "0972ba43",
   "metadata": {
    "ExecuteTime": {
     "end_time": "2024-06-06T01:52:57.685956Z",
     "start_time": "2024-06-06T01:52:57.678365Z"
    }
   },
   "outputs": [
    {
     "data": {
      "text/plain": [
       "'\\n\\nThere are 20,640 instances in the dataset, which means that it is fairly small by\\nMachine Learning standards, but it’s perfect to get started. Notice that the total_bed\\nrooms attribute has only 20,433 non-null values, meaning that 207 districts are miss‐\\ning this feature.\\n\\nWe will look at this later\\n\\n'"
      ]
     },
     "execution_count": 5,
     "metadata": {},
     "output_type": "execute_result"
    }
   ],
   "source": [
    "'''\n",
    "\n",
    "There are 20,640 instances in the dataset, which means that it is fairly small by\n",
    "Machine Learning standards, but it’s perfect to get started. Notice that the total_bed\n",
    "rooms attribute has only 20,433 non-null values, meaning that 207 districts are miss‐\n",
    "ing this feature.\n",
    "\n",
    "We will look at this later\n",
    "\n",
    "'''"
   ]
  },
  {
   "cell_type": "code",
   "execution_count": 6,
   "id": "6e0cd494",
   "metadata": {
    "ExecuteTime": {
     "end_time": "2024-06-06T01:52:57.720861Z",
     "start_time": "2024-06-06T01:52:57.689614Z"
    }
   },
   "outputs": [
    {
     "data": {
      "text/plain": [
       "<1H OCEAN     9136\n",
       "INLAND        6551\n",
       "NEAR OCEAN    2658\n",
       "NEAR BAY      2290\n",
       "ISLAND           5\n",
       "Name: ocean_proximity, dtype: int64"
      ]
     },
     "execution_count": 6,
     "metadata": {},
     "output_type": "execute_result"
    }
   ],
   "source": [
    "'''All attributes are numerical, except the ocean_proximity field. Its type is object'''\n",
    "\n",
    "housing['ocean_proximity'].value_counts()"
   ]
  },
  {
   "cell_type": "code",
   "execution_count": 7,
   "id": "dfe4cbb1",
   "metadata": {
    "ExecuteTime": {
     "end_time": "2024-06-06T01:52:57.771213Z",
     "start_time": "2024-06-06T01:52:57.723861Z"
    }
   },
   "outputs": [
    {
     "data": {
      "text/html": [
       "<div>\n",
       "<style scoped>\n",
       "    .dataframe tbody tr th:only-of-type {\n",
       "        vertical-align: middle;\n",
       "    }\n",
       "\n",
       "    .dataframe tbody tr th {\n",
       "        vertical-align: top;\n",
       "    }\n",
       "\n",
       "    .dataframe thead th {\n",
       "        text-align: right;\n",
       "    }\n",
       "</style>\n",
       "<table border=\"1\" class=\"dataframe\">\n",
       "  <thead>\n",
       "    <tr style=\"text-align: right;\">\n",
       "      <th></th>\n",
       "      <th>longitude</th>\n",
       "      <th>latitude</th>\n",
       "      <th>housing_median_age</th>\n",
       "      <th>total_rooms</th>\n",
       "      <th>total_bedrooms</th>\n",
       "      <th>population</th>\n",
       "      <th>households</th>\n",
       "      <th>median_income</th>\n",
       "      <th>median_house_value</th>\n",
       "    </tr>\n",
       "  </thead>\n",
       "  <tbody>\n",
       "    <tr>\n",
       "      <th>count</th>\n",
       "      <td>20640.000000</td>\n",
       "      <td>20640.000000</td>\n",
       "      <td>20640.000000</td>\n",
       "      <td>20640.000000</td>\n",
       "      <td>20433.000000</td>\n",
       "      <td>20640.000000</td>\n",
       "      <td>20640.000000</td>\n",
       "      <td>20640.000000</td>\n",
       "      <td>20640.000000</td>\n",
       "    </tr>\n",
       "    <tr>\n",
       "      <th>mean</th>\n",
       "      <td>-119.569704</td>\n",
       "      <td>35.631861</td>\n",
       "      <td>28.639486</td>\n",
       "      <td>2635.763081</td>\n",
       "      <td>537.870553</td>\n",
       "      <td>1425.476744</td>\n",
       "      <td>499.539680</td>\n",
       "      <td>3.870671</td>\n",
       "      <td>206855.816909</td>\n",
       "    </tr>\n",
       "    <tr>\n",
       "      <th>std</th>\n",
       "      <td>2.003532</td>\n",
       "      <td>2.135952</td>\n",
       "      <td>12.585558</td>\n",
       "      <td>2181.615252</td>\n",
       "      <td>421.385070</td>\n",
       "      <td>1132.462122</td>\n",
       "      <td>382.329753</td>\n",
       "      <td>1.899822</td>\n",
       "      <td>115395.615874</td>\n",
       "    </tr>\n",
       "    <tr>\n",
       "      <th>min</th>\n",
       "      <td>-124.350000</td>\n",
       "      <td>32.540000</td>\n",
       "      <td>1.000000</td>\n",
       "      <td>2.000000</td>\n",
       "      <td>1.000000</td>\n",
       "      <td>3.000000</td>\n",
       "      <td>1.000000</td>\n",
       "      <td>0.499900</td>\n",
       "      <td>14999.000000</td>\n",
       "    </tr>\n",
       "    <tr>\n",
       "      <th>25%</th>\n",
       "      <td>-121.800000</td>\n",
       "      <td>33.930000</td>\n",
       "      <td>18.000000</td>\n",
       "      <td>1447.750000</td>\n",
       "      <td>296.000000</td>\n",
       "      <td>787.000000</td>\n",
       "      <td>280.000000</td>\n",
       "      <td>2.563400</td>\n",
       "      <td>119600.000000</td>\n",
       "    </tr>\n",
       "    <tr>\n",
       "      <th>50%</th>\n",
       "      <td>-118.490000</td>\n",
       "      <td>34.260000</td>\n",
       "      <td>29.000000</td>\n",
       "      <td>2127.000000</td>\n",
       "      <td>435.000000</td>\n",
       "      <td>1166.000000</td>\n",
       "      <td>409.000000</td>\n",
       "      <td>3.534800</td>\n",
       "      <td>179700.000000</td>\n",
       "    </tr>\n",
       "    <tr>\n",
       "      <th>75%</th>\n",
       "      <td>-118.010000</td>\n",
       "      <td>37.710000</td>\n",
       "      <td>37.000000</td>\n",
       "      <td>3148.000000</td>\n",
       "      <td>647.000000</td>\n",
       "      <td>1725.000000</td>\n",
       "      <td>605.000000</td>\n",
       "      <td>4.743250</td>\n",
       "      <td>264725.000000</td>\n",
       "    </tr>\n",
       "    <tr>\n",
       "      <th>max</th>\n",
       "      <td>-114.310000</td>\n",
       "      <td>41.950000</td>\n",
       "      <td>52.000000</td>\n",
       "      <td>39320.000000</td>\n",
       "      <td>6445.000000</td>\n",
       "      <td>35682.000000</td>\n",
       "      <td>6082.000000</td>\n",
       "      <td>15.000100</td>\n",
       "      <td>500001.000000</td>\n",
       "    </tr>\n",
       "  </tbody>\n",
       "</table>\n",
       "</div>"
      ],
      "text/plain": [
       "          longitude      latitude  housing_median_age   total_rooms  \\\n",
       "count  20640.000000  20640.000000        20640.000000  20640.000000   \n",
       "mean    -119.569704     35.631861           28.639486   2635.763081   \n",
       "std        2.003532      2.135952           12.585558   2181.615252   \n",
       "min     -124.350000     32.540000            1.000000      2.000000   \n",
       "25%     -121.800000     33.930000           18.000000   1447.750000   \n",
       "50%     -118.490000     34.260000           29.000000   2127.000000   \n",
       "75%     -118.010000     37.710000           37.000000   3148.000000   \n",
       "max     -114.310000     41.950000           52.000000  39320.000000   \n",
       "\n",
       "       total_bedrooms    population    households  median_income  \\\n",
       "count    20433.000000  20640.000000  20640.000000   20640.000000   \n",
       "mean       537.870553   1425.476744    499.539680       3.870671   \n",
       "std        421.385070   1132.462122    382.329753       1.899822   \n",
       "min          1.000000      3.000000      1.000000       0.499900   \n",
       "25%        296.000000    787.000000    280.000000       2.563400   \n",
       "50%        435.000000   1166.000000    409.000000       3.534800   \n",
       "75%        647.000000   1725.000000    605.000000       4.743250   \n",
       "max       6445.000000  35682.000000   6082.000000      15.000100   \n",
       "\n",
       "       median_house_value  \n",
       "count        20640.000000  \n",
       "mean        206855.816909  \n",
       "std         115395.615874  \n",
       "min          14999.000000  \n",
       "25%         119600.000000  \n",
       "50%         179700.000000  \n",
       "75%         264725.000000  \n",
       "max         500001.000000  "
      ]
     },
     "execution_count": 7,
     "metadata": {},
     "output_type": "execute_result"
    }
   ],
   "source": [
    "## Lets use the describe function to get a five point summary\n",
    "housing.describe()"
   ]
  },
  {
   "cell_type": "code",
   "execution_count": 8,
   "id": "9320d8f4",
   "metadata": {
    "ExecuteTime": {
     "end_time": "2024-06-06T01:52:57.787493Z",
     "start_time": "2024-06-06T01:52:57.772340Z"
    }
   },
   "outputs": [],
   "source": [
    "## Now lets start with the Exploratory Data Analysis for this data \n",
    "\n",
    "##1. Univariate Analysis\n",
    "\n",
    "#####  a. We will plot histogram of all the Numerical variables to get more understanding of the data"
   ]
  },
  {
   "cell_type": "code",
   "execution_count": 9,
   "id": "2f1afff6",
   "metadata": {
    "ExecuteTime": {
     "end_time": "2024-06-06T01:52:59.837481Z",
     "start_time": "2024-06-06T01:52:57.788446Z"
    }
   },
   "outputs": [
    {
     "data": {
      "image/png": "[encoded data removed]",
      "text/plain": [
       "<Figure size 1080x1440 with 9 Axes>"
      ]
     },
     "metadata": {
      "needs_background": "light"
     },
     "output_type": "display_data"
    }
   ],
   "source": [
    "import matplotlib.pyplot as plt\n",
    "housing.hist(bins=50,figsize=(15,20))\n",
    "plt.show()"
   ]
  },
  {
   "cell_type": "code",
   "execution_count": 10,
   "id": "fc6b64b2",
   "metadata": {
    "ExecuteTime": {
     "end_time": "2024-06-06T01:52:59.855760Z",
     "start_time": "2024-06-06T01:52:59.842483Z"
    }
   },
   "outputs": [
    {
     "data": {
      "text/plain": [
       "'\\n\\n1. The housing median age and the median house value were also capped. The latter\\nmay be a serious problem since it is our target attribute (your labels). our\\nMachine Learning algorithms may learn that prices never go beyond that limit.\\nThere are 2 solutions to this\\n    a. We can include those districts with median value > 50000$ to train our model more precisely\\n    b. We can exclude those districts with median value > 50000$ from our training as well as testing dataset in order ato build a good model.\\n\\n\\n2.Many histograms are tail heavy: they extend much farther to the right of\\nthe median than to the left. This may make it a bit harder for some Machine\\nLearning algorithms to detect patterns. We will try transforming these attributes\\nlater on to have more bell-shaped distributions\\n\\n'"
      ]
     },
     "execution_count": 10,
     "metadata": {},
     "output_type": "execute_result"
    }
   ],
   "source": [
    "## Some Deductions from the Univariate analaysis that we performed using histograms\n",
    "\n",
    "'''\n",
    "\n",
    "1. The housing median age and the median house value were also capped. The latter\n",
    "may be a serious problem since it is our target attribute (your labels). our\n",
    "Machine Learning algorithms may learn that prices never go beyond that limit.\n",
    "There are 2 solutions to this\n",
    "    a. We can include those districts with median value > 50000$ to train our model more precisely\n",
    "    b. We can exclude those districts with median value > 50000$ from our training as well as testing dataset in order ato build a good model.\n",
    "\n",
    "\n",
    "2.Many histograms are tail heavy: they extend much farther to the right of\n",
    "the median than to the left. This may make it a bit harder for some Machine\n",
    "Learning algorithms to detect patterns. We will try transforming these attributes\n",
    "later on to have more bell-shaped distributions\n",
    "\n",
    "'''"
   ]
  },
  {
   "cell_type": "code",
   "execution_count": 11,
   "id": "16cba644",
   "metadata": {
    "ExecuteTime": {
     "end_time": "2024-06-06T01:53:00.662451Z",
     "start_time": "2024-06-06T01:52:59.855760Z"
    }
   },
   "outputs": [],
   "source": [
    "## as we have completed a basic EDA onto the given data set we will move to next step\n",
    "## Which is we will create a test and training dataset from the whole data\n",
    "\n",
    "from sklearn.model_selection import train_test_split\n",
    "train_set, test_set = train_test_split(housing, test_size=0.2, random_state=42)"
   ]
  },
  {
   "cell_type": "code",
   "execution_count": 12,
   "id": "e8b00773",
   "metadata": {
    "ExecuteTime": {
     "end_time": "2024-06-06T01:53:00.687797Z",
     "start_time": "2024-06-06T01:53:00.668401Z"
    }
   },
   "outputs": [
    {
     "data": {
      "text/plain": [
       "'\\n1. The train_test_split method is basically using a random sampling method.\\n   This is generally fine if your dataset is large enough (especially relative to the number of attributes), but if it\\n   is not, you run the risk of introducing a significant sampling bias.\\n\\n2. So Lets Try Stratified Random Sampling approach and assuming that Median Income is a very important attribute for\\n   target variable.\\n \\n a. Since the median income is a continuous numerical attribute, you first need to create\\n    an income category attribute. \\n\\nLet’s look at the median income histogram more closely\\n \\n 1. most median income values are clustered around 1.5 to 6 (i.e.,\\n$15,000–$60,000), but some median incomes go far beyond 6. \\n\\n 2. It is important to have a sufficient number of instances in your dataset for each stratum, or else the estimate\\nof the stratum’s importance may be biased. This means that you should not have too\\nmany strata, and each stratum should be large enough. \\n\\nWe will use pd.cut() function to create an income category attribute with 5 categories (labeled\\nfrom 1 to 5): category 1 ranges from 0 to 1.5 (i.e., less than $15,000), category 2 from\\n1.5 to 3, and so on\\n\\n'"
      ]
     },
     "execution_count": 12,
     "metadata": {},
     "output_type": "execute_result"
    }
   ],
   "source": [
    "'''\n",
    "1. The train_test_split method is basically using a random sampling method.\n",
    "   This is generally fine if your dataset is large enough (especially relative to the number of attributes), but if it\n",
    "   is not, you run the risk of introducing a significant sampling bias.\n",
    "\n",
    "2. So Lets Try Stratified Random Sampling approach and assuming that Median Income is a very important attribute for\n",
    "   target variable.\n",
    " \n",
    " a. Since the median income is a continuous numerical attribute, you first need to create\n",
    "    an income category attribute. \n",
    "\n",
    "Let’s look at the median income histogram more closely\n",
    " \n",
    " 1. most median income values are clustered around 1.5 to 6 (i.e.,\n",
    "$15,000–$60,000), but some median incomes go far beyond 6. \n",
    "\n",
    " 2. It is important to have a sufficient number of instances in your dataset for each stratum, or else the estimate\n",
    "of the stratum’s importance may be biased. This means that you should not have too\n",
    "many strata, and each stratum should be large enough. \n",
    "\n",
    "We will use pd.cut() function to create an income category attribute with 5 categories (labeled\n",
    "from 1 to 5): category 1 ranges from 0 to 1.5 (i.e., less than $15,000), category 2 from\n",
    "1.5 to 3, and so on\n",
    "\n",
    "'''"
   ]
  },
  {
   "cell_type": "code",
   "execution_count": 13,
   "id": "4380c791",
   "metadata": {
    "ExecuteTime": {
     "end_time": "2024-06-06T01:53:00.870600Z",
     "start_time": "2024-06-06T01:53:00.690840Z"
    }
   },
   "outputs": [
    {
     "data": {
      "text/plain": [
       "<AxesSubplot:>"
      ]
     },
     "execution_count": 13,
     "metadata": {},
     "output_type": "execute_result"
    },
    {
     "data": {
      "image/png": "[encoded data removed]",
      "text/plain": [
       "<Figure size 432x288 with 1 Axes>"
      ]
     },
     "metadata": {
      "needs_background": "light"
     },
     "output_type": "display_data"
    }
   ],
   "source": [
    "import numpy as np\n",
    "housing['income_cat'] = pd.cut(housing['median_income'],bins=[0.,1.5,3,4.5,6,np.inf],labels = [1,2,3,4,5])\n",
    "housing['income_cat'].hist()"
   ]
  },
  {
   "cell_type": "code",
   "execution_count": 14,
   "id": "2b69a48d",
   "metadata": {
    "ExecuteTime": {
     "end_time": "2024-06-06T01:53:00.883929Z",
     "start_time": "2024-06-06T01:53:00.874225Z"
    }
   },
   "outputs": [
    {
     "data": {
      "text/plain": [
       "'Now you are ready to do stratified sampling based on the income category. For this\\n   We can use Scikit-Learn’s StratifiedShuffleSplit class'"
      ]
     },
     "execution_count": 14,
     "metadata": {},
     "output_type": "execute_result"
    }
   ],
   "source": [
    "'''Now you are ready to do stratified sampling based on the income category. For this\n",
    "   We can use Scikit-Learn’s StratifiedShuffleSplit class'''"
   ]
  },
  {
   "cell_type": "code",
   "execution_count": 15,
   "id": "7471c81b",
   "metadata": {
    "ExecuteTime": {
     "end_time": "2024-06-06T01:53:00.937435Z",
     "start_time": "2024-06-06T01:53:00.891016Z"
    }
   },
   "outputs": [],
   "source": [
    "from sklearn.model_selection import StratifiedShuffleSplit\n",
    "split = StratifiedShuffleSplit(n_splits=1, test_size=0.2,random_state=20)\n",
    "\n",
    "for train_index , test_index in split.split(housing,housing['income_cat']):\n",
    "    strat_train_set = housing.loc[train_index]\n",
    "    strat_test_set = housing.loc[test_index]"
   ]
  },
  {
   "cell_type": "code",
   "execution_count": 16,
   "id": "ca4b9dec",
   "metadata": {
    "ExecuteTime": {
     "end_time": "2024-06-06T01:53:00.953433Z",
     "start_time": "2024-06-06T01:53:00.940435Z"
    }
   },
   "outputs": [
    {
     "data": {
      "text/plain": [
       "3    0.350533\n",
       "2    0.318798\n",
       "4    0.176357\n",
       "5    0.114341\n",
       "1    0.039971\n",
       "Name: income_cat, dtype: float64"
      ]
     },
     "execution_count": 16,
     "metadata": {},
     "output_type": "execute_result"
    }
   ],
   "source": [
    "strat_test_set['income_cat'].value_counts()/len(strat_test_set)"
   ]
  },
  {
   "cell_type": "markdown",
   "id": "ac5ac597",
   "metadata": {},
   "source": [
    "''' Now we will compare the income category proportions in the overall dataset,\n",
    "\n",
    "1.in the test set generated with stratified sampling, and in a test set generated using purely\n",
    "random sampling. As you can see, the test set generated using stratified sampling has\n",
    "income category proportions almost identical to those in the full dataset, whereas the\n",
    "test set generated using purely random sampling is quite skewed.'''\n",
    "\n"
   ]
  },
  {
   "cell_type": "code",
   "execution_count": 17,
   "id": "881f5e9d",
   "metadata": {
    "ExecuteTime": {
     "end_time": "2024-06-06T01:53:00.973553Z",
     "start_time": "2024-06-06T01:53:00.958436Z"
    }
   },
   "outputs": [],
   "source": [
    "## Now we will remove the income_cat attribute so the data is back to its original state.\n",
    "\n",
    "for set_ in (strat_train_set,strat_test_set):\n",
    "    set_.drop('income_cat',axis =1 , inplace= True)"
   ]
  },
  {
   "cell_type": "code",
   "execution_count": 18,
   "id": "4719eaaa",
   "metadata": {
    "ExecuteTime": {
     "end_time": "2024-06-06T01:53:01.021094Z",
     "start_time": "2024-06-06T01:53:00.976121Z"
    }
   },
   "outputs": [],
   "source": [
    "## lets create a copy of our training set and do some more exploration on the data\n",
    "\n",
    "housing = strat_train_set.copy()"
   ]
  },
  {
   "cell_type": "code",
   "execution_count": 19,
   "id": "4b62ca70",
   "metadata": {
    "ExecuteTime": {
     "end_time": "2024-06-06T01:53:01.169490Z",
     "start_time": "2024-06-06T01:53:01.025138Z"
    }
   },
   "outputs": [
    {
     "data": {
      "text/plain": [
       "<AxesSubplot:xlabel='longitude', ylabel='latitude'>"
      ]
     },
     "execution_count": 19,
     "metadata": {},
     "output_type": "execute_result"
    },
    {
     "data": {
      "image/png": "[encoded data removed]",
      "text/plain": [
       "<Figure size 432x288 with 1 Axes>"
      ]
     },
     "metadata": {
      "needs_background": "light"
     },
     "output_type": "display_data"
    }
   ],
   "source": [
    "## Visualize Geographicak data \n",
    "\n",
    "## Since there is geographical information (latitude and longitude), it is a good idea to\n",
    "## create a scatterplot of all districts to visualize the data\n",
    "\n",
    "housing.plot(kind = 'scatter' , x='longitude', y = 'latitude', alpha = 0.1)"
   ]
  },
  {
   "cell_type": "code",
   "execution_count": 20,
   "id": "01ef1d50",
   "metadata": {
    "ExecuteTime": {
     "end_time": "2024-06-06T01:53:01.204483Z",
     "start_time": "2024-06-06T01:53:01.171996Z"
    }
   },
   "outputs": [
    {
     "data": {
      "text/plain": [
       "latitude             -0.141972\n",
       "longitude            -0.047162\n",
       "population           -0.030131\n",
       "total_bedrooms        0.046345\n",
       "households            0.063182\n",
       "housing_median_age    0.116048\n",
       "total_rooms           0.131806\n",
       "median_income         0.686379\n",
       "median_house_value    1.000000\n",
       "Name: median_house_value, dtype: float64"
      ]
     },
     "execution_count": 20,
     "metadata": {},
     "output_type": "execute_result"
    }
   ],
   "source": [
    "## Can't observe any specific pattern so moving ahead with calculating correlations\n",
    "\n",
    "corr_matrix = housing.corr()\n",
    "corr_matrix['median_house_value'].sort_values()"
   ]
  },
  {
   "cell_type": "code",
   "execution_count": 21,
   "id": "ba63946b",
   "metadata": {
    "ExecuteTime": {
     "end_time": "2024-06-06T01:53:01.370768Z",
     "start_time": "2024-06-06T01:53:01.205793Z"
    }
   },
   "outputs": [
    {
     "data": {
      "text/plain": [
       "<AxesSubplot:xlabel='median_income', ylabel='median_house_value'>"
      ]
     },
     "execution_count": 21,
     "metadata": {},
     "output_type": "execute_result"
    },
    {
     "data": {
      "image/png": "[encoded data removed]",
      "text/plain": [
       "<Figure size 432x288 with 1 Axes>"
      ]
     },
     "metadata": {
      "needs_background": "light"
     },
     "output_type": "display_data"
    }
   ],
   "source": [
    "## The most promising attribute to predict the median house value is the median\n",
    "## income, so let’s zoom in on their correlation scatterplot\n",
    "\n",
    "housing.plot(kind = 'scatter', x = 'median_income' , y = 'median_house_value', alpha = 0.1)"
   ]
  },
  {
   "cell_type": "code",
   "execution_count": 22,
   "id": "c1054507",
   "metadata": {
    "ExecuteTime": {
     "end_time": "2024-06-06T01:53:01.404102Z",
     "start_time": "2024-06-06T01:53:01.374593Z"
    }
   },
   "outputs": [],
   "source": [
    "## Preparing the data for Machine Learning algorithm\n",
    "\n",
    "housing = strat_train_set.drop('median_house_value', axis= 1)\n",
    "housing_labels = strat_train_set['median_house_value'].copy() "
   ]
  },
  {
   "cell_type": "markdown",
   "id": "5e8233c9",
   "metadata": {
    "ExecuteTime": {
     "end_time": "2024-06-06T01:53:01.419098Z",
     "start_time": "2024-06-06T01:53:01.408103Z"
    }
   },
   "source": [
    "## Data Cleaning \n",
    "\n",
    "'''\n",
    "Most Machine Learning algorithms cannot work with missing features, so let’s create\n",
    "a few functions to take care of them. we noticed earlier that the total_bedrooms\n",
    "attribute has some missing values, so let’s fix this. we have three options:\n",
    "\n",
    "• Get rid of the corresponding districts.\n",
    "• Get rid of the whole attribute.\n",
    "• Set the values to some value (zero, the mean, the median, etc.).\n",
    "\n",
    "\n",
    "Scikit-Learn provides a handy class to take care of missing values: SimpleImputer.\n",
    "Here is how to use it. First, you need to create a SimpleImputer instance, specifying\n",
    "that you want to replace each attribute’s missing values with the median of that\n",
    "attribute:\n",
    "\n",
    "'''"
   ]
  },
  {
   "cell_type": "code",
   "execution_count": 24,
   "id": "74e44936",
   "metadata": {
    "ExecuteTime": {
     "end_time": "2024-06-06T01:53:01.554110Z",
     "start_time": "2024-06-06T01:53:01.423370Z"
    }
   },
   "outputs": [],
   "source": [
    "from sklearn.impute import SimpleImputer\n",
    "imputer = SimpleImputer(strategy='median')\n",
    "\n",
    "##  Since the median can only be computed on numerical attributes, we need to create a\n",
    "##  copy of the data without the text attribute ocean_proximity\n",
    "\n",
    "housing_num = housing.drop('ocean_proximity', axis = 1)\n",
    "\n",
    "## Now you can fit the imputer instance to the training data using the fit() method\n",
    "\n",
    "imputer.fit(housing_num)\n",
    "\n",
    "## we can check the median of all the attributes. They are stored in Imputer statistic\n",
    "\n",
    "imputer.statistics_\n",
    "\n",
    "## Now you can use this “trained” imputer to transform the training set by replacing\n",
    "## missing values by the learned medians\n",
    "\n",
    "X = imputer.transform(housing_num)\n",
    "housing_tr = pd.DataFrame(X,columns=housing_num.columns)"
   ]
  },
  {
   "cell_type": "code",
   "execution_count": 25,
   "id": "bc4ff939",
   "metadata": {
    "ExecuteTime": {
     "end_time": "2024-06-06T01:53:01.569884Z",
     "start_time": "2024-06-06T01:53:01.555837Z"
    }
   },
   "outputs": [
    {
     "data": {
      "text/plain": [
       "[array(['<1H OCEAN', 'INLAND', 'ISLAND', 'NEAR BAY', 'NEAR OCEAN'],\n",
       "       dtype=object)]"
      ]
     },
     "execution_count": 25,
     "metadata": {},
     "output_type": "execute_result"
    }
   ],
   "source": [
    "\n",
    "##  Handling Text and categorical variable \n",
    "\n",
    "housing_cat = housing[['ocean_proximity']]\n",
    "housing_cat.head()\n",
    "\n",
    "# Most Machine Learning algorithms prefer to work with numbers anyway, so let’s convert\n",
    "# these categories from text to numbers. For this, we can use Scikit-Learn’s OrdinalEncoder \n",
    "\n",
    "from sklearn.preprocessing import OrdinalEncoder\n",
    "encoder = OrdinalEncoder()\n",
    "housing_cat_encoded = encoder.fit_transform(housing_cat)\n",
    "housing_cat_encoded[:10]\n",
    "\n",
    "# You can get the list of categories using the categories_ instance variable. It is a list\n",
    "# containing a 1D array of categories for each categorical attribute\n",
    "\n",
    "encoder.categories_\n"
   ]
  },
  {
   "cell_type": "code",
   "execution_count": 26,
   "id": "e9fa17be",
   "metadata": {
    "ExecuteTime": {
     "end_time": "2024-06-06T01:53:01.585181Z",
     "start_time": "2024-06-06T01:53:01.575472Z"
    }
   },
   "outputs": [
    {
     "data": {
      "text/plain": [
       "'\\nOne issue with this representation is that ML algorithms will assume that two nearby\\nvalues are more similar than two distant values. \\n\\nThis may be fine in some cases (e.g.,\\nfor ordered categories such as “bad”, “average”, “good”, “excellent”), but it is obviously\\nnot the case for the ocean_proximity column (for example, categories 0 and 4 are\\nclearly more similar than categories 0 and 1). \\n\\nTo fix this issue, a common solution is to create one binary attribute per category:\\n\\none attribute equal to 1 when the category is “<1H OCEAN” (and 0 otherwise), \\nanother attribute equal to 1 when the category is “INLAND” (and 0 otherwise), and so on. \\n\\nThis is called one-hot encoding, because\\nonly one attribute will be equal to 1 (hot), while the others will be 0 (cold). The new\\nattributes are sometimes called dummy attributes. \\n\\n'"
      ]
     },
     "execution_count": 26,
     "metadata": {},
     "output_type": "execute_result"
    }
   ],
   "source": [
    "'''\n",
    "One issue with this representation is that ML algorithms will assume that two nearby\n",
    "values are more similar than two distant values. \n",
    "\n",
    "This may be fine in some cases (e.g.,\n",
    "for ordered categories such as “bad”, “average”, “good”, “excellent”), but it is obviously\n",
    "not the case for the ocean_proximity column (for example, categories 0 and 4 are\n",
    "clearly more similar than categories 0 and 1). \n",
    "\n",
    "To fix this issue, a common solution is to create one binary attribute per category:\n",
    "\n",
    "one attribute equal to 1 when the category is “<1H OCEAN” (and 0 otherwise), \n",
    "another attribute equal to 1 when the category is “INLAND” (and 0 otherwise), and so on. \n",
    "\n",
    "This is called one-hot encoding, because\n",
    "only one attribute will be equal to 1 (hot), while the others will be 0 (cold). The new\n",
    "attributes are sometimes called dummy attributes. \n",
    "\n",
    "'''"
   ]
  },
  {
   "cell_type": "code",
   "execution_count": 27,
   "id": "1c994152",
   "metadata": {
    "ExecuteTime": {
     "end_time": "2024-06-06T01:53:01.611262Z",
     "start_time": "2024-06-06T01:53:01.589550Z"
    }
   },
   "outputs": [
    {
     "data": {
      "text/plain": [
       "<16512x5 sparse matrix of type '<class 'numpy.float64'>'\n",
       "\twith 16512 stored elements in Compressed Sparse Row format>"
      ]
     },
     "execution_count": 27,
     "metadata": {},
     "output_type": "execute_result"
    }
   ],
   "source": [
    "from sklearn.preprocessing import OneHotEncoder\n",
    "one_hot_encoder = OneHotEncoder()\n",
    "housing_cat_one_hot = one_hot_encoder.fit_transform(housing_cat)\n",
    "housing_cat_one_hot"
   ]
  },
  {
   "cell_type": "code",
   "execution_count": 28,
   "id": "df077f63",
   "metadata": {
    "ExecuteTime": {
     "end_time": "2024-06-06T01:53:01.636301Z",
     "start_time": "2024-06-06T01:53:01.611262Z"
    }
   },
   "outputs": [
    {
     "data": {
      "text/plain": [
       "'\\n\\nThere are two common ways to get all attributes to have the same scale: min-max\\nscaling and standardization\\n\\n'"
      ]
     },
     "execution_count": 28,
     "metadata": {},
     "output_type": "execute_result"
    }
   ],
   "source": [
    "## Feature Scaling\n",
    "\n",
    "\n",
    "'''\n",
    "\n",
    "One of the most important transformations you need to apply to your data is feature\n",
    "scaling. With few exceptions, Machine Learning algorithms don’t perform well when\n",
    "the input numerical attributes have very different scales. This is the case for the housing\n",
    "data: the total number of rooms ranges from about 6 to 39,320, while the median\n",
    "incomes only range from 0 to 15. Note that scaling the target values is generally not\n",
    "required.\n",
    "\n",
    "'''\n",
    "\n",
    "'''\n",
    "\n",
    "There are two common ways to get all attributes to have the same scale: min-max\n",
    "scaling and standardization\n",
    "\n",
    "'''"
   ]
  },
  {
   "cell_type": "code",
   "execution_count": 29,
   "id": "4fa7516b",
   "metadata": {
    "ExecuteTime": {
     "end_time": "2024-06-06T01:53:01.687281Z",
     "start_time": "2024-06-06T01:53:01.641291Z"
    }
   },
   "outputs": [],
   "source": [
    "from sklearn.pipeline import Pipeline\n",
    "from sklearn.preprocessing import StandardScaler\n",
    "\n",
    "\n",
    "num_pipeline = Pipeline([('imputer', SimpleImputer(strategy='median')),\n",
    "                        ('std_scaler',StandardScaler())])\n",
    "\n",
    "housing_num_tr = num_pipeline.fit_transform(housing_num)"
   ]
  },
  {
   "cell_type": "code",
   "execution_count": 30,
   "id": "38444655",
   "metadata": {
    "ExecuteTime": {
     "end_time": "2024-06-06T01:53:01.703184Z",
     "start_time": "2024-06-06T01:53:01.691214Z"
    }
   },
   "outputs": [
    {
     "data": {
      "text/plain": [
       "'\\n\\nSo far, we have handled the categorical columns and the numerical columns separately.\\nIt would be more convenient to have a single transformer able to handle all columns,\\napplying the appropriate transformations to each column. In version 0.20,\\nScikit-Learn introduced the ColumnTransformer for this purpose\\n\\n'"
      ]
     },
     "execution_count": 30,
     "metadata": {},
     "output_type": "execute_result"
    }
   ],
   "source": [
    "'''\n",
    "\n",
    "So far, we have handled the categorical columns and the numerical columns separately.\n",
    "It would be more convenient to have a single transformer able to handle all columns,\n",
    "applying the appropriate transformations to each column. In version 0.20,\n",
    "Scikit-Learn introduced the ColumnTransformer for this purpose\n",
    "\n",
    "'''"
   ]
  },
  {
   "cell_type": "code",
   "execution_count": 31,
   "id": "041659c7",
   "metadata": {
    "ExecuteTime": {
     "end_time": "2024-06-06T01:53:01.769907Z",
     "start_time": "2024-06-06T01:53:01.707470Z"
    }
   },
   "outputs": [],
   "source": [
    "from sklearn.compose import ColumnTransformer\n",
    "num_attribs = list(housing_num)\n",
    "cat_attribs = [\"ocean_proximity\"]\n",
    "full_pipeline = ColumnTransformer([\n",
    "(\"num\", num_pipeline, num_attribs),\n",
    "(\"cat\", OneHotEncoder(), cat_attribs),\n",
    "])\n",
    "housing_prepared = full_pipeline.fit_transform(housing)"
   ]
  },
  {
   "cell_type": "code",
   "execution_count": 32,
   "id": "664979ad",
   "metadata": {
    "ExecuteTime": {
     "end_time": "2024-06-06T01:53:01.949192Z",
     "start_time": "2024-06-06T01:53:01.773091Z"
    }
   },
   "outputs": [
    {
     "data": {
      "text/plain": [
       "LinearRegression()"
      ]
     },
     "execution_count": 32,
     "metadata": {},
     "output_type": "execute_result"
    }
   ],
   "source": [
    "## Training a model \n",
    "## Using Linear regression at first \n",
    "\n",
    "from sklearn.linear_model import LinearRegression\n",
    "lin_reg = LinearRegression()\n",
    "lin_reg.fit(housing_prepared, housing_labels)"
   ]
  },
  {
   "cell_type": "code",
   "execution_count": 33,
   "id": "d766e090",
   "metadata": {
    "ExecuteTime": {
     "end_time": "2024-06-06T01:53:01.964852Z",
     "start_time": "2024-06-06T01:53:01.949192Z"
    }
   },
   "outputs": [
    {
     "data": {
      "text/plain": [
       "68749.0951299438"
      ]
     },
     "execution_count": 33,
     "metadata": {},
     "output_type": "execute_result"
    }
   ],
   "source": [
    "## Let’s measure this regression model’s RMSE on the whole training set using Scikit-Learn’s mean_squared_error function\n",
    "\n",
    "from sklearn.metrics import mean_squared_error\n",
    "housing_predictions = lin_reg.predict(housing_prepared)\n",
    "lin_mse = mean_squared_error(housing_labels , housing_predictions)\n",
    "lin_rmse = np.sqrt(lin_mse)\n",
    "lin_rmse"
   ]
  },
  {
   "cell_type": "code",
   "execution_count": 34,
   "id": "9f9f74b9",
   "metadata": {
    "ExecuteTime": {
     "end_time": "2024-06-06T01:53:02.154636Z",
     "start_time": "2024-06-06T01:53:01.964852Z"
    }
   },
   "outputs": [
    {
     "data": {
      "text/plain": [
       "0.0"
      ]
     },
     "execution_count": 34,
     "metadata": {},
     "output_type": "execute_result"
    }
   ],
   "source": [
    "## Training a DecisionTreeRegressor\n",
    "from sklearn.tree import DecisionTreeRegressor\n",
    "tree_reg = DecisionTreeRegressor()\n",
    "tree_reg.fit(housing_prepared,housing_labels)\n",
    "housing_predictions_tree = tree_reg.predict(housing_prepared)\n",
    "tree_reg_mse = mean_squared_error(housing_labels, housing_predictions_tree)\n",
    "tree_reg_rmse = np.sqrt(tree_reg_mse)\n",
    "tree_reg_rmse"
   ]
  },
  {
   "cell_type": "code",
   "execution_count": 35,
   "id": "8c35015c",
   "metadata": {
    "ExecuteTime": {
     "end_time": "2024-06-06T01:53:03.522967Z",
     "start_time": "2024-06-06T01:53:02.154636Z"
    }
   },
   "outputs": [
    {
     "data": {
      "text/plain": [
       "array([66577.47833876, 63407.57807663, 68311.12313759, 68151.89991177,\n",
       "       66895.03743531, 69382.93030771, 67938.53384779, 72711.43441482,\n",
       "       66738.80523963, 71351.09154885])"
      ]
     },
     "execution_count": 35,
     "metadata": {},
     "output_type": "execute_result"
    }
   ],
   "source": [
    "## Assumption is This new model is very badly overfitting the data\n",
    "## Trying K Fold cross validation to support this assumption\n",
    "\n",
    "from sklearn.model_selection import cross_val_score\n",
    "scores = cross_val_score(tree_reg,housing_prepared,housing_labels,scoring='neg_mean_squared_error',cv=10)\n",
    "tree_rmse_scores = np.sqrt(-scores)\n",
    "tree_rmse_scores"
   ]
  },
  {
   "cell_type": "code",
   "execution_count": 36,
   "id": "4937e95a",
   "metadata": {
    "ExecuteTime": {
     "end_time": "2024-06-06T01:53:03.708064Z",
     "start_time": "2024-06-06T01:53:03.528062Z"
    }
   },
   "outputs": [
    {
     "data": {
      "text/plain": [
       "array([64644.05970752, 67609.22907968, 69557.79995821, 67326.40033065,\n",
       "       68939.96855951, 67484.69222637, 67695.2985021 , 71541.16677652,\n",
       "       68523.62286315, 75707.6869291 ])"
      ]
     },
     "execution_count": 36,
     "metadata": {},
     "output_type": "execute_result"
    }
   ],
   "source": [
    "## comparing this model with linear regression\n",
    "\n",
    "lin_scores = cross_val_score(lin_reg,housing_prepared,housing_labels,cv=10,scoring='neg_mean_squared_error')\n",
    "lin_scores_rmse = np.sqrt(-lin_scores)\n",
    "lin_scores_rmse"
   ]
  },
  {
   "cell_type": "code",
   "execution_count": 37,
   "id": "61551aab",
   "metadata": {
    "ExecuteTime": {
     "end_time": "2024-06-06T01:53:13.244940Z",
     "start_time": "2024-06-06T01:53:03.710090Z"
    }
   },
   "outputs": [
    {
     "data": {
      "text/plain": [
       "18234.293710451042"
      ]
     },
     "execution_count": 37,
     "metadata": {},
     "output_type": "execute_result"
    }
   ],
   "source": [
    "## So our assumption was right and both of models are not looking good\n",
    "## Trying Random Forest Regressor \n",
    "\n",
    "from sklearn.ensemble import RandomForestRegressor\n",
    "Random_forest = RandomForestRegressor()\n",
    "Random_forest.fit(housing_prepared,housing_labels)\n",
    "Random_forest_predictions = Random_forest.predict(housing_prepared)\n",
    "Random_forest_mse = mean_squared_error(housing_labels,Random_forest_predictions)\n",
    "Random_forest_rmse = np.sqrt(Random_forest_mse)\n",
    "Random_forest_rmse"
   ]
  },
  {
   "cell_type": "code",
   "execution_count": 38,
   "id": "b6acf47e",
   "metadata": {
    "ExecuteTime": {
     "end_time": "2024-06-06T01:57:57.496681Z",
     "start_time": "2024-06-06T01:56:50.003898Z"
    }
   },
   "outputs": [
    {
     "data": {
      "text/plain": [
       "array([46829.90226952, 47604.99506023, 50356.11979511, 49003.27089221,\n",
       "       47525.98580448, 50030.06272428, 46972.46602321, 52670.23048868,\n",
       "       46044.48126027, 52265.51256627])"
      ]
     },
     "execution_count": 38,
     "metadata": {},
     "output_type": "execute_result"
    }
   ],
   "source": [
    "## Lets check this Classifier on multiple validation sets with the help of cross validation\n",
    "from sklearn.model_selection import cross_val_score\n",
    "Random_forest_scores = cross_val_score(Random_forest,housing_prepared,housing_labels,cv=10,scoring='neg_mean_squared_error')\n",
    "Random_forest_rmse_validation = np.sqrt(-Random_forest_scores)\n",
    "Random_forest_rmse_validation"
   ]
  },
  {
   "cell_type": "markdown",
   "id": "f7d3afb0",
   "metadata": {
    "ExecuteTime": {
     "end_time": "2024-06-06T01:59:20.844750Z",
     "start_time": "2024-06-06T01:59:20.831920Z"
    }
   },
   "source": [
    "Random Forests look very promising. However, note that\n",
    "the score on the training set is still much lower than on the validation sets, meaning\n",
    "that the model is still overfitting the training set. Possible solutions for overfitting are\n",
    "to simplify the model, constrain it (i.e., regularize it), or get a lot more training data"
   ]
  },
  {
   "cell_type": "markdown",
   "id": "b2312171",
   "metadata": {},
   "source": [
    "### Fine-Tune our Model\n",
    "\n",
    "GridSearchCV"
   ]
  },
  {
   "cell_type": "markdown",
   "id": "0511e5a1",
   "metadata": {
    "ExecuteTime": {
     "end_time": "2024-06-06T02:04:35.036907Z",
     "start_time": "2024-06-06T02:04:35.025595Z"
    }
   },
   "source": [
    "One way to Fine tune our Model that would be to fiddle with the hyperparameters manually, until you\n",
    "find a great combination of hyperparameter values. This would be very tedious work,\n",
    "and you may not have time to explore many combinations.\n",
    "Instead we will use Scikit-Learn’s GridSearchCV to search for you. All we need to\n",
    "do is tell it which hyperparameters you want it to experiment with, and what values to\n",
    "try out, and it will evaluate all the possible combinations of hyperparameter values,\n",
    "using cross-validation. For example, the following code searches for the best combi‐\n",
    "nation of hyperparameter values for the RandomForestRegressor"
   ]
  },
  {
   "cell_type": "code",
   "execution_count": 43,
   "id": "c12012fe",
   "metadata": {
    "ExecuteTime": {
     "end_time": "2024-06-06T02:10:36.014219Z",
     "start_time": "2024-06-06T02:10:00.961913Z"
    }
   },
   "outputs": [
    {
     "data": {
      "text/plain": [
       "GridSearchCV(cv=5, estimator=RandomForestRegressor(),\n",
       "             param_grid=[{'max_features': [2, 4, 6, 8],\n",
       "                          'n_estimators': [3, 10, 30]},\n",
       "                         {'bootstrap': [False], 'max_features': [2, 3, 4],\n",
       "                          'n_estimators': [3, 10]}],\n",
       "             return_train_score=True, scoring='neg_mean_squared_error')"
      ]
     },
     "execution_count": 43,
     "metadata": {},
     "output_type": "execute_result"
    }
   ],
   "source": [
    "from sklearn.model_selection import GridSearchCV\n",
    "forest_reg = RandomForestRegressor()\n",
    "params_grid = [{'n_estimators':[3,10,30],'max_features':[2,4,6,8]},{'bootstrap':[False],'n_estimators':[3,10],'max_features':[2,3,4]}]\n",
    "grid_search = GridSearchCV(forest_reg,params_grid,cv=5,scoring='neg_mean_squared_error',return_train_score=True)\n",
    "grid_search.fit(housing_prepared,housing_labels)"
   ]
  },
  {
   "cell_type": "markdown",
   "id": "4fe2aa52",
   "metadata": {},
   "source": [
    "This param_grid tells Scikit-Learn to first evaluate all 3 × 4 = 12 combinations of\n",
    "n_estimators and max_features hyperparameter values specified in the first dict\n",
    "then try all 2 × 3 = 6 combinations of hyperparameter values in the\n",
    "second dict, but this time with the bootstrap hyperparameter set to False instead of\n",
    "True (which is the default value for this hyperparameter).\n",
    "All in all, the grid search will explore 12 + 6 = 18 combinations of RandomForestRe\n",
    "gressor hyperparameter values, and it will train each model five times (since we are\n",
    "using five-fold cross validation). In other words, all in all, there will be 18 × 5 = 90\n",
    "rounds of training"
   ]
  },
  {
   "cell_type": "code",
   "execution_count": 44,
   "id": "d4826b43",
   "metadata": {
    "ExecuteTime": {
     "end_time": "2024-06-06T02:11:45.520484Z",
     "start_time": "2024-06-06T02:11:45.506182Z"
    }
   },
   "outputs": [
    {
     "data": {
      "text/plain": [
       "{'max_features': 8, 'n_estimators': 30}"
      ]
     },
     "execution_count": 44,
     "metadata": {},
     "output_type": "execute_result"
    }
   ],
   "source": [
    "grid_search.best_params_"
   ]
  },
  {
   "cell_type": "code",
   "execution_count": 45,
   "id": "f80d8277",
   "metadata": {
    "ExecuteTime": {
     "end_time": "2024-06-06T02:12:18.592011Z",
     "start_time": "2024-06-06T02:12:18.576877Z"
    }
   },
   "outputs": [
    {
     "data": {
      "text/plain": [
       "RandomForestRegressor(max_features=8, n_estimators=30)"
      ]
     },
     "execution_count": 45,
     "metadata": {},
     "output_type": "execute_result"
    }
   ],
   "source": [
    "## we can also get the estimator directly\n",
    "grid_search.best_estimator_"
   ]
  },
  {
   "cell_type": "code",
   "execution_count": 46,
   "id": "7a57f0cc",
   "metadata": {
    "ExecuteTime": {
     "end_time": "2024-06-06T02:14:28.669675Z",
     "start_time": "2024-06-06T02:14:28.650588Z"
    }
   },
   "outputs": [
    {
     "name": "stdout",
     "output_type": "stream",
     "text": [
      "64144.25889519347 {'max_features': 2, 'n_estimators': 3}\n",
      "55140.784852830206 {'max_features': 2, 'n_estimators': 10}\n",
      "52347.766920603484 {'max_features': 2, 'n_estimators': 30}\n",
      "59161.871140300136 {'max_features': 4, 'n_estimators': 3}\n",
      "52585.245002384814 {'max_features': 4, 'n_estimators': 10}\n",
      "50333.52395496944 {'max_features': 4, 'n_estimators': 30}\n",
      "58528.0171941471 {'max_features': 6, 'n_estimators': 3}\n",
      "52068.57075422996 {'max_features': 6, 'n_estimators': 10}\n",
      "49944.28906546544 {'max_features': 6, 'n_estimators': 30}\n",
      "58246.08801823106 {'max_features': 8, 'n_estimators': 3}\n",
      "51325.36352346621 {'max_features': 8, 'n_estimators': 10}\n",
      "49604.69565647198 {'max_features': 8, 'n_estimators': 30}\n",
      "62020.416450026976 {'bootstrap': False, 'max_features': 2, 'n_estimators': 3}\n",
      "54600.12029103472 {'bootstrap': False, 'max_features': 2, 'n_estimators': 10}\n",
      "59798.025168101696 {'bootstrap': False, 'max_features': 3, 'n_estimators': 3}\n",
      "52073.42769561956 {'bootstrap': False, 'max_features': 3, 'n_estimators': 10}\n",
      "59166.57998091625 {'bootstrap': False, 'max_features': 4, 'n_estimators': 3}\n",
      "51654.98542488377 {'bootstrap': False, 'max_features': 4, 'n_estimators': 10}\n"
     ]
    }
   ],
   "source": [
    "## we can also check evaluation scores\n",
    "cvres = grid_search.cv_results_\n",
    "for mean_score , params in zip(cvres['mean_test_score'],cvres['params']):\n",
    "    print(np.sqrt(-mean_score),params)"
   ]
  },
  {
   "cell_type": "markdown",
   "id": "567aea38",
   "metadata": {},
   "source": [
    "### Analyze the Best Models and Their Errors\n",
    "we will gain good insights on the problem by inspecting the best models. For\n",
    "example, the RandomForestRegressor can indicate the relative importance of each\n",
    "attribute for making accurate predictions:"
   ]
  },
  {
   "cell_type": "code",
   "execution_count": 47,
   "id": "17dd6026",
   "metadata": {
    "ExecuteTime": {
     "end_time": "2024-06-06T02:16:55.484461Z",
     "start_time": "2024-06-06T02:16:55.456358Z"
    }
   },
   "outputs": [
    {
     "data": {
      "text/plain": [
       "array([1.15689680e-01, 1.05541383e-01, 4.93608929e-02, 3.18685875e-02,\n",
       "       2.65736741e-02, 4.11372133e-02, 2.50409469e-02, 4.15109418e-01,\n",
       "       5.97880741e-03, 1.74953987e-01, 4.63486065e-05, 2.94706033e-03,\n",
       "       5.75200113e-03])"
      ]
     },
     "execution_count": 47,
     "metadata": {},
     "output_type": "execute_result"
    }
   ],
   "source": [
    "feature_importance = grid_search.best_estimator_.feature_importances_\n",
    "feature_importance"
   ]
  },
  {
   "cell_type": "code",
   "execution_count": 48,
   "id": "48867c16",
   "metadata": {
    "ExecuteTime": {
     "end_time": "2024-06-06T02:19:47.689234Z",
     "start_time": "2024-06-06T02:19:47.674189Z"
    }
   },
   "outputs": [
    {
     "data": {
      "text/plain": [
       "[(0.41510941791866357, 'median_income'),\n",
       " (0.1749539870774847, 'pop_per_hhold'),\n",
       " (0.11568968012422874, 'longitude'),\n",
       " (0.10554138270466806, 'latitude'),\n",
       " (0.0493608928671769, 'housing_median_age'),\n",
       " (0.04113721329746148, 'population'),\n",
       " (0.03186858749485371, 'total_rooms'),\n",
       " (0.026573674094862835, 'total_bedrooms'),\n",
       " (0.025040946942197138, 'households'),\n",
       " (0.005978807410418894, 'rooms_per_hhold'),\n",
       " (0.005752001127124979, 'INLAND'),\n",
       " (0.0029470603343382845, '<1H OCEAN'),\n",
       " (4.634860652072105e-05, 'bedrooms_per_room')]"
      ]
     },
     "execution_count": 48,
     "metadata": {},
     "output_type": "execute_result"
    }
   ],
   "source": [
    "extra_attribs = ['rooms_per_hhold','pop_per_hhold','bedrooms_per_room']\n",
    "cat_encoder = full_pipeline.named_transformers_['cat']\n",
    "cat_one_hot_attribs = list(cat_encoder.categories_[0])\n",
    "attributes = num_attribs + extra_attribs + cat_one_hot_attribs\n",
    "sorted(zip(feature_importance,attributes),reverse=True)"
   ]
  },
  {
   "cell_type": "markdown",
   "id": "15b3d96a",
   "metadata": {},
   "source": [
    "### Evaluate our System on the Test Set\n",
    "\n",
    "After tweaking our models for a while, we eventually have a system that performs\n",
    "sufficiently well. Now is the time to evaluate the final model on the test set. There is\n",
    "nothing special about this process; just get the predictors and the labels from our\n",
    "test set, run our full_pipeline to transform the data, and evaluate the final model\n",
    "on the test set"
   ]
  },
  {
   "cell_type": "code",
   "execution_count": 54,
   "id": "76d9ba9e",
   "metadata": {
    "ExecuteTime": {
     "end_time": "2024-06-06T02:24:53.256392Z",
     "start_time": "2024-06-06T02:24:53.166031Z"
    }
   },
   "outputs": [
    {
     "data": {
      "text/plain": [
       "48428.30479308816"
      ]
     },
     "execution_count": 54,
     "metadata": {},
     "output_type": "execute_result"
    }
   ],
   "source": [
    "final_model = grid_search.best_estimator_\n",
    "\n",
    "X_test = strat_test_set.drop(\"median_house_value\",axis=1)\n",
    "y_test = strat_test_set['median_house_value'].copy()\n",
    "\n",
    "X_test_prepared = full_pipeline.transform(X_test)\n",
    "\n",
    "final_predictions = final_model.predict(X_test_prepared)\n",
    "\n",
    "final_mse = mean_squared_error(y_test,final_predictions)\n",
    "final_rmse = np.sqrt(final_mse)\n",
    "final_rmse\n"
   ]
  },
  {
   "cell_type": "code",
   "execution_count": null,
   "id": "6bb637d4",
   "metadata": {},
   "outputs": [],
   "source": []
  }
 ],
 "metadata": {
  "hide_input": false,
  "kernelspec": {
   "display_name": "Python 3 (ipykernel)",
   "language": "python",
   "name": "python3"
  },
  "language_info": {
   "codemirror_mode": {
    "name": "ipython",
    "version": 3
   },
   "file_extension": ".py",
   "mimetype": "text/x-python",
   "name": "python",
   "nbconvert_exporter": "python",
   "pygments_lexer": "ipython3",
   "version": "3.9.12"
  },
  "toc": {
   "base_numbering": 1,
   "nav_menu": {},
   "number_sections": true,
   "sideBar": true,
   "skip_h1_title": false,
   "title_cell": "Table of Contents",
   "title_sidebar": "Contents",
   "toc_cell": false,
   "toc_position": {},
   "toc_section_display": true,
   "toc_window_display": false
  },
  "varInspector": {
   "cols": {
    "lenName": 16,
    "lenType": 16,
    "lenVar": 40
   },
   "kernels_config": {
    "python": {
     "delete_cmd_postfix": "",
     "delete_cmd_prefix": "del ",
     "library": "var_list.py",
     "varRefreshCmd": "print(var_dic_list())"
    },
    "r": {
     "delete_cmd_postfix": ") ",
     "delete_cmd_prefix": "rm(",
     "library": "var_list.r",
     "varRefreshCmd": "cat(var_dic_list()) "
    }
   },
   "types_to_exclude": [
    "module",
    "function",
    "builtin_function_or_method",
    "instance",
    "_Feature"
   ],
   "window_display": false
  }
 },
 "nbformat": 4,
 "nbformat_minor": 5
}
